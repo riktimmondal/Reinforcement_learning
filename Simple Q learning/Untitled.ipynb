{
 "cells": [
  {
   "cell_type": "markdown",
   "metadata": {},
   "source": [
    "# SIMPLE TABULAR APPROACH(BAD)"
   ]
  },
  {
   "cell_type": "code",
   "execution_count": 4,
   "metadata": {},
   "outputs": [],
   "source": [
    "import gym\n",
    "import numpy as np"
   ]
  },
  {
   "cell_type": "code",
   "execution_count": 5,
   "metadata": {},
   "outputs": [],
   "source": [
    "env=gym.make('FrozenLake-v0')"
   ]
  },
  {
   "cell_type": "code",
   "execution_count": 7,
   "metadata": {},
   "outputs": [],
   "source": [
    "Q=np.zeros([env.observation_space.n,env.action_space.n])\n",
    "lr=0.8\n",
    "y=0.95\n",
    "num_epis=2000\n",
    "reward_list=[]\n",
    "for i in range(num_epis):\n",
    "    s=env.reset()\n",
    "    rAll=0\n",
    "    d=False\n",
    "    j=0\n",
    "    while j<99:\n",
    "        j+=1\n",
    "        a=np.argmax(Q[s,:]+np.random.randn(1,env.action_space.n)*(1./(i+1)))\n",
    "        s_new,reward,done,_=env.step(a)\n",
    "        Q[s,a]=Q[s,a]+lr*(reward+y*np.max(Q[s_new,:])-Q[s,a])\n",
    "        rAll+=reward\n",
    "        s=s_new\n",
    "        if done==True:\n",
    "            break\n",
    "        reward_list.append(rAll)"
   ]
  },
  {
   "cell_type": "code",
   "execution_count": 9,
   "metadata": {},
   "outputs": [
    {
     "name": "stdout",
     "output_type": "stream",
     "text": [
      "Score over time: 0.0\n"
     ]
    }
   ],
   "source": [
    "print(\"Score over time: \" +  str(sum(reward_list)/num_epis))"
   ]
  },
  {
   "cell_type": "code",
   "execution_count": 10,
   "metadata": {},
   "outputs": [
    {
     "name": "stdout",
     "output_type": "stream",
     "text": [
      "Final Q-Table Values\n",
      "[[6.05779196e-02 1.03359290e-02 8.29260165e-03 8.62423989e-03]\n",
      " [1.27123702e-03 4.07090178e-03 1.33938903e-03 2.42136388e-01]\n",
      " [5.14550024e-03 2.62142486e-03 4.90118611e-03 3.18952790e-01]\n",
      " [1.57155300e-03 1.04618395e-04 3.20602512e-04 1.05107995e-01]\n",
      " [1.77766513e-02 2.03287693e-03 9.94585371e-04 6.02755992e-04]\n",
      " [0.00000000e+00 0.00000000e+00 0.00000000e+00 0.00000000e+00]\n",
      " [7.46879948e-04 4.22854873e-05 2.97919063e-02 6.23825687e-04]\n",
      " [0.00000000e+00 0.00000000e+00 0.00000000e+00 0.00000000e+00]\n",
      " [0.00000000e+00 1.85959333e-04 1.89182811e-03 2.74067306e-01]\n",
      " [3.40986412e-04 2.05347501e-01 0.00000000e+00 9.66727800e-05]\n",
      " [6.08696212e-01 1.46814499e-03 1.21674591e-05 3.07464059e-04]\n",
      " [0.00000000e+00 0.00000000e+00 0.00000000e+00 0.00000000e+00]\n",
      " [0.00000000e+00 0.00000000e+00 0.00000000e+00 0.00000000e+00]\n",
      " [0.00000000e+00 1.05406396e-03 8.28786693e-01 3.34519851e-04]\n",
      " [0.00000000e+00 0.00000000e+00 9.26952627e-01 0.00000000e+00]\n",
      " [0.00000000e+00 0.00000000e+00 0.00000000e+00 0.00000000e+00]]\n"
     ]
    }
   ],
   "source": [
    "print(\"Final Q-Table Values\")\n",
    "print(Q)\n"
   ]
  },
  {
   "cell_type": "markdown",
   "metadata": {},
   "source": [
    "DEEP LEARNING APPROACH(GOOD)"
   ]
  },
  {
   "cell_type": "code",
   "execution_count": 11,
   "metadata": {},
   "outputs": [],
   "source": [
    "import gym\n",
    "import numpy as np\n",
    "import random\n",
    "import tensorflow as tf\n",
    "import matplotlib.pyplot as plt\n",
    "%matplotlib inline"
   ]
  },
  {
   "cell_type": "code",
   "execution_count": 12,
   "metadata": {},
   "outputs": [],
   "source": [
    "env = gym.make('FrozenLake-v0')"
   ]
  },
  {
   "cell_type": "code",
   "execution_count": 13,
   "metadata": {},
   "outputs": [],
   "source": [
    "tf.reset_default_graph()"
   ]
  },
  {
   "cell_type": "code",
   "execution_count": 14,
   "metadata": {},
   "outputs": [],
   "source": [
    "inputs=tf.placeholder(shape=[1,16],dtype=tf.float32)\n",
    "W=tf.Variable(tf.random_uniform([16,4],0,0.01))\n",
    "Qout=tf.matmul(inputs,W)\n",
    "predict=tf.argmax(Qout,1)"
   ]
  },
  {
   "cell_type": "code",
   "execution_count": 16,
   "metadata": {},
   "outputs": [],
   "source": [
    "nextQ=tf.placeholder(shape=[1,4],dtype=tf.float32)\n",
    "loss=tf.reduce_sum(tf.square(nextQ-Qout))\n",
    "trainer=tf.train.GradientDescentOptimizer(learning_rate=0.1)\n",
    "updateModel=trainer.minimize(loss)"
   ]
  },
  {
   "cell_type": "code",
   "execution_count": 23,
   "metadata": {},
   "outputs": [],
   "source": [
    "init=tf.global_variables_initializer()\n",
    "y=0.99\n",
    "e=0.1\n",
    "num_episodes=2000\n",
    "jList=[]\n",
    "rList=[]\n"
   ]
  },
  {
   "cell_type": "code",
   "execution_count": 25,
   "metadata": {},
   "outputs": [
    {
     "name": "stdout",
     "output_type": "stream",
     "text": [
      "Percent of succesful episodes: 0.0%\n"
     ]
    }
   ],
   "source": [
    "with tf.Session() as sess:\n",
    "    sess.run(init)\n",
    "    for i in range(num_episodes):\n",
    "        s=env.reset()\n",
    "        rAll=0\n",
    "        d=False\n",
    "        j=0\n",
    "        \n",
    "        while j<99:\n",
    "            a,allQ=sess.run([predict,Qout],feed_dict={inputs:np.identity(16)[s:s+1]})\n",
    "            if np.random.rand(1) < e:\n",
    "                a[0]=env.action_space.sample()\n",
    "                \n",
    "            s1,r,d,_=env.step(a[0])\n",
    "            Q1=sess.run(Qout,feed_dict={inputs:np.identity(16)[s:s+1]})\n",
    "            maxQ1=np.max(Q1)\n",
    "            targetQ=allQ\n",
    "            targetQ[0,a[0]]=r+y*maxQ1\n",
    "            \n",
    "            _,W1=sess.run([updateModel,W],feed_dict={inputs:np.identity(16)[s:s+1],nextQ:targetQ})\n",
    "            rAll+=r\n",
    "            s=s1\n",
    "            if d==True:\n",
    "                e=1./((i/50)+10)\n",
    "                break\n",
    "    jList.append(j)\n",
    "    rList.append(rAll)\n",
    "print(\"Percent of succesful episodes: \" + str(sum(rList)/num_episodes) + \"%\")"
   ]
  },
  {
   "cell_type": "code",
   "execution_count": 26,
   "metadata": {},
   "outputs": [
    {
     "data": {
      "text/plain": [
       "[<matplotlib.lines.Line2D at 0x7f210c7f34e0>]"
      ]
     },
     "execution_count": 26,
     "metadata": {},
     "output_type": "execute_result"
    },
    {
     "data": {
      "image/png": "[encoded data removed]",
      "text/plain": [
       "<Figure size 432x288 with 1 Axes>"
      ]
     },
     "metadata": {},
     "output_type": "display_data"
    }
   ],
   "source": [
    "plt.plot(rList)"
   ]
  },
  {
   "cell_type": "code",
   "execution_count": 27,
   "metadata": {},
   "outputs": [
    {
     "data": {
      "text/plain": [
       "[<matplotlib.lines.Line2D at 0x7f210c776630>]"
      ]
     },
     "execution_count": 27,
     "metadata": {},
     "output_type": "execute_result"
    },
    {
     "data": {
      "image/png": "[encoded data removed]",
      "text/plain": [
       "<Figure size 432x288 with 1 Axes>"
      ]
     },
     "metadata": {},
     "output_type": "display_data"
    }
   ],
   "source": [
    "plt.plot(jList)"
   ]
  },
  {
   "cell_type": "code",
   "execution_count": null,
   "metadata": {},
   "outputs": [],
   "source": []
  }
 ],
 "metadata": {
  "kernelspec": {
   "display_name": "Python 3",
   "language": "python",
   "name": "python3"
  },
  "language_info": {
   "codemirror_mode": {
    "name": "ipython",
    "version": 3
   },
   "file_extension": ".py",
   "mimetype": "text/x-python",
   "name": "python",
   "nbconvert_exporter": "python",
   "pygments_lexer": "ipython3",
   "version": "3.6.5"
  }
 },
 "nbformat": 4,
 "nbformat_minor": 2
}
